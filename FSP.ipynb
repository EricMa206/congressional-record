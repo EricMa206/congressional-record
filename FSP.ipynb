{
 "cells": [
  {
   "cell_type": "code",
   "execution_count": null,
   "metadata": {},
   "outputs": [],
   "source": [
    "class API_getter:\n",
    "    def __init__(self):\n",
    "        self.gov_key = 'tZK6mKeXQ2JK0It7txhhhzCnBbcKhdeKsJli2lak'\n",
    "        self.gov_url = 'http://catalog.data.gov/api/3/'\n",
    "        self.pp_key = 'l8xbuedseZHG4JrxvS9u40eyNMOWRTVDL4IfnIb6'\n",
    "        self.pp_url = ''\n",
    "        \n",
    "class Selenium_getter:\n",
    "    def __init__(self):\n",
    "        self.SCOTUS_base_url = 'https://www.govinfo.gov/committee/senate-judiciary?path=/browsecommittee/chamber/senate/committee/judiciary/collection/OTHER-2'\n",
    "        \n",
    "        "
   ]
  }
 ],
 "metadata": {
  "kernelspec": {
   "display_name": "Python 3",
   "language": "python",
   "name": "python3"
  },
  "language_info": {
   "codemirror_mode": {
    "name": "ipython",
    "version": 3
   },
   "file_extension": ".py",
   "mimetype": "text/x-python",
   "name": "python",
   "nbconvert_exporter": "python",
   "pygments_lexer": "ipython3",
   "version": "3.6.6"
  }
 },
 "nbformat": 4,
 "nbformat_minor": 2
}
